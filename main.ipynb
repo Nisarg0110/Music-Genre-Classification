{
 "cells": [
  {
   "cell_type": "code",
   "execution_count": 2,
   "id": "507320b7",
   "metadata": {},
   "outputs": [],
   "source": [
    "import os\n",
    "import numpy as np\n",
    "import pandas as pd\n",
    "import IPython.display as ipd\n",
    "import librosa\n",
    "import librosa.display\n",
    "import matplotlib.pyplot as plt"
   ]
  },
  {
   "cell_type": "code",
   "execution_count": 3,
   "id": "7597bcc2",
   "metadata": {},
   "outputs": [],
   "source": [
    "audio_dataset_path='genres_original'\n",
    "metadata=pd.read_csv('features_30_sec.csv')"
   ]
  },
  {
   "cell_type": "code",
   "execution_count": 4,
   "id": "603d5df4",
   "metadata": {},
   "outputs": [
    {
     "data": {
      "text/html": [
       "<div>\n",
       "<style scoped>\n",
       "    .dataframe tbody tr th:only-of-type {\n",
       "        vertical-align: middle;\n",
       "    }\n",
       "\n",
       "    .dataframe tbody tr th {\n",
       "        vertical-align: top;\n",
       "    }\n",
       "\n",
       "    .dataframe thead th {\n",
       "        text-align: right;\n",
       "    }\n",
       "</style>\n",
       "<table border=\"1\" class=\"dataframe\">\n",
       "  <thead>\n",
       "    <tr style=\"text-align: right;\">\n",
       "      <th></th>\n",
       "      <th>filename</th>\n",
       "      <th>length</th>\n",
       "      <th>chroma_stft_mean</th>\n",
       "      <th>chroma_stft_var</th>\n",
       "      <th>rms_mean</th>\n",
       "      <th>rms_var</th>\n",
       "      <th>spectral_centroid_mean</th>\n",
       "      <th>spectral_centroid_var</th>\n",
       "      <th>spectral_bandwidth_mean</th>\n",
       "      <th>spectral_bandwidth_var</th>\n",
       "      <th>...</th>\n",
       "      <th>mfcc16_var</th>\n",
       "      <th>mfcc17_mean</th>\n",
       "      <th>mfcc17_var</th>\n",
       "      <th>mfcc18_mean</th>\n",
       "      <th>mfcc18_var</th>\n",
       "      <th>mfcc19_mean</th>\n",
       "      <th>mfcc19_var</th>\n",
       "      <th>mfcc20_mean</th>\n",
       "      <th>mfcc20_var</th>\n",
       "      <th>label</th>\n",
       "    </tr>\n",
       "  </thead>\n",
       "  <tbody>\n",
       "    <tr>\n",
       "      <th>0</th>\n",
       "      <td>blues.00000.wav</td>\n",
       "      <td>661794</td>\n",
       "      <td>0.350088</td>\n",
       "      <td>0.088757</td>\n",
       "      <td>0.130228</td>\n",
       "      <td>0.002827</td>\n",
       "      <td>1784.165850</td>\n",
       "      <td>129774.064525</td>\n",
       "      <td>2002.449060</td>\n",
       "      <td>85882.761315</td>\n",
       "      <td>...</td>\n",
       "      <td>52.420910</td>\n",
       "      <td>-1.690215</td>\n",
       "      <td>36.524071</td>\n",
       "      <td>-0.408979</td>\n",
       "      <td>41.597103</td>\n",
       "      <td>-2.303523</td>\n",
       "      <td>55.062923</td>\n",
       "      <td>1.221291</td>\n",
       "      <td>46.936035</td>\n",
       "      <td>blues</td>\n",
       "    </tr>\n",
       "    <tr>\n",
       "      <th>1</th>\n",
       "      <td>blues.00001.wav</td>\n",
       "      <td>661794</td>\n",
       "      <td>0.340914</td>\n",
       "      <td>0.094980</td>\n",
       "      <td>0.095948</td>\n",
       "      <td>0.002373</td>\n",
       "      <td>1530.176679</td>\n",
       "      <td>375850.073649</td>\n",
       "      <td>2039.036516</td>\n",
       "      <td>213843.755497</td>\n",
       "      <td>...</td>\n",
       "      <td>55.356403</td>\n",
       "      <td>-0.731125</td>\n",
       "      <td>60.314529</td>\n",
       "      <td>0.295073</td>\n",
       "      <td>48.120598</td>\n",
       "      <td>-0.283518</td>\n",
       "      <td>51.106190</td>\n",
       "      <td>0.531217</td>\n",
       "      <td>45.786282</td>\n",
       "      <td>blues</td>\n",
       "    </tr>\n",
       "    <tr>\n",
       "      <th>2</th>\n",
       "      <td>blues.00002.wav</td>\n",
       "      <td>661794</td>\n",
       "      <td>0.363637</td>\n",
       "      <td>0.085275</td>\n",
       "      <td>0.175570</td>\n",
       "      <td>0.002746</td>\n",
       "      <td>1552.811865</td>\n",
       "      <td>156467.643368</td>\n",
       "      <td>1747.702312</td>\n",
       "      <td>76254.192257</td>\n",
       "      <td>...</td>\n",
       "      <td>40.598766</td>\n",
       "      <td>-7.729093</td>\n",
       "      <td>47.639427</td>\n",
       "      <td>-1.816407</td>\n",
       "      <td>52.382141</td>\n",
       "      <td>-3.439720</td>\n",
       "      <td>46.639660</td>\n",
       "      <td>-2.231258</td>\n",
       "      <td>30.573025</td>\n",
       "      <td>blues</td>\n",
       "    </tr>\n",
       "    <tr>\n",
       "      <th>3</th>\n",
       "      <td>blues.00003.wav</td>\n",
       "      <td>661794</td>\n",
       "      <td>0.404785</td>\n",
       "      <td>0.093999</td>\n",
       "      <td>0.141093</td>\n",
       "      <td>0.006346</td>\n",
       "      <td>1070.106615</td>\n",
       "      <td>184355.942417</td>\n",
       "      <td>1596.412872</td>\n",
       "      <td>166441.494769</td>\n",
       "      <td>...</td>\n",
       "      <td>44.427753</td>\n",
       "      <td>-3.319597</td>\n",
       "      <td>50.206673</td>\n",
       "      <td>0.636965</td>\n",
       "      <td>37.319130</td>\n",
       "      <td>-0.619121</td>\n",
       "      <td>37.259739</td>\n",
       "      <td>-3.407448</td>\n",
       "      <td>31.949339</td>\n",
       "      <td>blues</td>\n",
       "    </tr>\n",
       "    <tr>\n",
       "      <th>4</th>\n",
       "      <td>blues.00004.wav</td>\n",
       "      <td>661794</td>\n",
       "      <td>0.308526</td>\n",
       "      <td>0.087841</td>\n",
       "      <td>0.091529</td>\n",
       "      <td>0.002303</td>\n",
       "      <td>1835.004266</td>\n",
       "      <td>343399.939274</td>\n",
       "      <td>1748.172116</td>\n",
       "      <td>88445.209036</td>\n",
       "      <td>...</td>\n",
       "      <td>86.099236</td>\n",
       "      <td>-5.454034</td>\n",
       "      <td>75.269707</td>\n",
       "      <td>-0.916874</td>\n",
       "      <td>53.613918</td>\n",
       "      <td>-4.404827</td>\n",
       "      <td>62.910812</td>\n",
       "      <td>-11.703234</td>\n",
       "      <td>55.195160</td>\n",
       "      <td>blues</td>\n",
       "    </tr>\n",
       "  </tbody>\n",
       "</table>\n",
       "<p>5 rows × 60 columns</p>\n",
       "</div>"
      ],
      "text/plain": [
       "          filename  length  chroma_stft_mean  chroma_stft_var  rms_mean   \n",
       "0  blues.00000.wav  661794          0.350088         0.088757  0.130228  \\\n",
       "1  blues.00001.wav  661794          0.340914         0.094980  0.095948   \n",
       "2  blues.00002.wav  661794          0.363637         0.085275  0.175570   \n",
       "3  blues.00003.wav  661794          0.404785         0.093999  0.141093   \n",
       "4  blues.00004.wav  661794          0.308526         0.087841  0.091529   \n",
       "\n",
       "    rms_var  spectral_centroid_mean  spectral_centroid_var   \n",
       "0  0.002827             1784.165850          129774.064525  \\\n",
       "1  0.002373             1530.176679          375850.073649   \n",
       "2  0.002746             1552.811865          156467.643368   \n",
       "3  0.006346             1070.106615          184355.942417   \n",
       "4  0.002303             1835.004266          343399.939274   \n",
       "\n",
       "   spectral_bandwidth_mean  spectral_bandwidth_var  ...  mfcc16_var   \n",
       "0              2002.449060            85882.761315  ...   52.420910  \\\n",
       "1              2039.036516           213843.755497  ...   55.356403   \n",
       "2              1747.702312            76254.192257  ...   40.598766   \n",
       "3              1596.412872           166441.494769  ...   44.427753   \n",
       "4              1748.172116            88445.209036  ...   86.099236   \n",
       "\n",
       "   mfcc17_mean  mfcc17_var  mfcc18_mean  mfcc18_var  mfcc19_mean  mfcc19_var   \n",
       "0    -1.690215   36.524071    -0.408979   41.597103    -2.303523   55.062923  \\\n",
       "1    -0.731125   60.314529     0.295073   48.120598    -0.283518   51.106190   \n",
       "2    -7.729093   47.639427    -1.816407   52.382141    -3.439720   46.639660   \n",
       "3    -3.319597   50.206673     0.636965   37.319130    -0.619121   37.259739   \n",
       "4    -5.454034   75.269707    -0.916874   53.613918    -4.404827   62.910812   \n",
       "\n",
       "   mfcc20_mean  mfcc20_var  label  \n",
       "0     1.221291   46.936035  blues  \n",
       "1     0.531217   45.786282  blues  \n",
       "2    -2.231258   30.573025  blues  \n",
       "3    -3.407448   31.949339  blues  \n",
       "4   -11.703234   55.195160  blues  \n",
       "\n",
       "[5 rows x 60 columns]"
      ]
     },
     "execution_count": 4,
     "metadata": {},
     "output_type": "execute_result"
    }
   ],
   "source": [
    "metadata.head()"
   ]
  },
  {
   "cell_type": "code",
   "execution_count": 5,
   "id": "01dfa932",
   "metadata": {},
   "outputs": [],
   "source": [
    "def features_extractor(file):\n",
    "    audio,sample_rate=librosa.load(file_name,res_type='kaiser_fast')\n",
    "    mfccs_features=librosa.feature.mfcc(y=audio,sr=sample_rate,n_mfcc=40)#no of samples /s taken from a continuous signal\n",
    "    mfccs_scaled_features=np.mean(mfccs_features.T,axis=0)#scaled MFCC features avg value along each audio\n",
    "    \n",
    "    return mfccs_scaled_features"
   ]
  },
  {
   "cell_type": "code",
   "execution_count": 6,
   "id": "742dc440",
   "metadata": {},
   "outputs": [],
   "source": [
    "metadata.drop(labels=552,axis=0,inplace=True)"
   ]
  },
  {
   "cell_type": "code",
   "execution_count": 7,
   "id": "6b6cde43",
   "metadata": {},
   "outputs": [
    {
     "name": "stderr",
     "output_type": "stream",
     "text": [
      "553it [01:08,  8.36it/s]C:\\Users\\nisar\\AppData\\Local\\Temp\\ipykernel_31920\\1026920885.py:2: UserWarning: PySoundFile failed. Trying audioread instead.\n",
      "  audio,sample_rate=librosa.load(file_name,res_type='kaiser_fast')\n",
      "C:\\Users\\nisar\\AppData\\Local\\Programs\\Python\\Python310\\lib\\site-packages\\librosa\\core\\audio.py:183: FutureWarning: librosa.core.audio.__audioread_load\n",
      "\tDeprecated as of librosa version 0.10.0.\n",
      "\tIt will be removed in librosa version 1.0.\n",
      "  y, sr_native = __audioread_load(path, offset, duration, dtype)\n",
      "555it [01:08, 10.31it/s]"
     ]
    },
    {
     "name": "stdout",
     "output_type": "stream",
     "text": [
      "Error:\n"
     ]
    },
    {
     "name": "stderr",
     "output_type": "stream",
     "text": [
      "999it [01:57,  8.49it/s]\n"
     ]
    }
   ],
   "source": [
    "from tqdm import tqdm # progress bar to visualize the iteration progress\n",
    "\n",
    "extracted_features=[]\n",
    "\n",
    "for index_num,row in tqdm(metadata.iterrows()):\n",
    "    try:\n",
    "        final_class_lables=row[\"label\"]\n",
    "        file_name = os.path.join(os.path.abspath(audio_dataset_path),final_class_lables+'/',str(row[\"filename\"])) #path of the file\n",
    "        data=features_extractor(file_name)\n",
    "        extracted_features.append([data,final_class_lables])\n",
    "    except Exception as e:\n",
    "        print(f\"Error:{e}\")\n",
    "        continue"
   ]
  },
  {
   "cell_type": "code",
   "execution_count": 8,
   "id": "e7ed4941",
   "metadata": {},
   "outputs": [
    {
     "data": {
      "text/html": [
       "<div>\n",
       "<style scoped>\n",
       "    .dataframe tbody tr th:only-of-type {\n",
       "        vertical-align: middle;\n",
       "    }\n",
       "\n",
       "    .dataframe tbody tr th {\n",
       "        vertical-align: top;\n",
       "    }\n",
       "\n",
       "    .dataframe thead th {\n",
       "        text-align: right;\n",
       "    }\n",
       "</style>\n",
       "<table border=\"1\" class=\"dataframe\">\n",
       "  <thead>\n",
       "    <tr style=\"text-align: right;\">\n",
       "      <th></th>\n",
       "      <th>feature</th>\n",
       "      <th>class</th>\n",
       "    </tr>\n",
       "  </thead>\n",
       "  <tbody>\n",
       "    <tr>\n",
       "      <th>0</th>\n",
       "      <td>[-113.59882, 121.57067, -19.162262, 42.363937,...</td>\n",
       "      <td>blues</td>\n",
       "    </tr>\n",
       "    <tr>\n",
       "      <th>1</th>\n",
       "      <td>[-207.52383, 123.98514, 8.94702, 35.86715, 2.9...</td>\n",
       "      <td>blues</td>\n",
       "    </tr>\n",
       "    <tr>\n",
       "      <th>2</th>\n",
       "      <td>[-90.757164, 140.44087, -29.084547, 31.686693,...</td>\n",
       "      <td>blues</td>\n",
       "    </tr>\n",
       "    <tr>\n",
       "      <th>3</th>\n",
       "      <td>[-199.57513, 150.0861, 5.663404, 26.855278, 1....</td>\n",
       "      <td>blues</td>\n",
       "    </tr>\n",
       "    <tr>\n",
       "      <th>4</th>\n",
       "      <td>[-160.35417, 126.20948, -35.581394, 22.139256,...</td>\n",
       "      <td>blues</td>\n",
       "    </tr>\n",
       "  </tbody>\n",
       "</table>\n",
       "</div>"
      ],
      "text/plain": [
       "                                             feature  class\n",
       "0  [-113.59882, 121.57067, -19.162262, 42.363937,...  blues\n",
       "1  [-207.52383, 123.98514, 8.94702, 35.86715, 2.9...  blues\n",
       "2  [-90.757164, 140.44087, -29.084547, 31.686693,...  blues\n",
       "3  [-199.57513, 150.0861, 5.663404, 26.855278, 1....  blues\n",
       "4  [-160.35417, 126.20948, -35.581394, 22.139256,...  blues"
      ]
     },
     "execution_count": 8,
     "metadata": {},
     "output_type": "execute_result"
    }
   ],
   "source": [
    "extracted_features_df=pd.DataFrame(extracted_features,columns=['feature','class'])\n",
    "extracted_features_df.head()"
   ]
  },
  {
   "cell_type": "code",
   "execution_count": 9,
   "id": "363a483d",
   "metadata": {},
   "outputs": [
    {
     "data": {
      "text/plain": [
       "class\n",
       "blues        100\n",
       "classical    100\n",
       "country      100\n",
       "disco        100\n",
       "hiphop       100\n",
       "metal        100\n",
       "pop          100\n",
       "reggae       100\n",
       "rock         100\n",
       "jazz          98\n",
       "Name: count, dtype: int64"
      ]
     },
     "execution_count": 9,
     "metadata": {},
     "output_type": "execute_result"
    }
   ],
   "source": [
    "extracted_features_df['class'].value_counts()"
   ]
  },
  {
   "cell_type": "code",
   "execution_count": 10,
   "id": "7ad11c97",
   "metadata": {},
   "outputs": [],
   "source": [
    "X=np.array(extracted_features_df['feature'].tolist())\n",
    "y=np.array(extracted_features_df['class'].tolist())"
   ]
  },
  {
   "cell_type": "code",
   "execution_count": 11,
   "id": "35e15604",
   "metadata": {},
   "outputs": [
    {
     "data": {
      "text/plain": [
       "(998, 40)"
      ]
     },
     "execution_count": 11,
     "metadata": {},
     "output_type": "execute_result"
    }
   ],
   "source": [
    "X.shape"
   ]
  },
  {
   "cell_type": "code",
   "execution_count": 12,
   "id": "9519a12f",
   "metadata": {},
   "outputs": [],
   "source": [
    "from tensorflow.keras.utils import to_categorical #one-hot encodeing\n",
    "from sklearn.preprocessing import LabelEncoder #categorical to numerical\n",
    "labelencoder=LabelEncoder()\n",
    "y=to_categorical(labelencoder.fit_transform(y))"
   ]
  },
  {
   "cell_type": "code",
   "execution_count": 13,
   "id": "c34d33e8",
   "metadata": {},
   "outputs": [
    {
     "data": {
      "text/plain": [
       "(998, 10)"
      ]
     },
     "execution_count": 13,
     "metadata": {},
     "output_type": "execute_result"
    }
   ],
   "source": [
    "y.shape"
   ]
  },
  {
   "cell_type": "code",
   "execution_count": 14,
   "id": "53291db4",
   "metadata": {},
   "outputs": [],
   "source": [
    "from sklearn.model_selection import train_test_split\n",
    "\n",
    "X_train,X_test,y_train,y_test=train_test_split(X,y,test_size=0.2,random_state=0)"
   ]
  },
  {
   "cell_type": "code",
   "execution_count": 15,
   "id": "7ef60045",
   "metadata": {},
   "outputs": [
    {
     "data": {
      "text/plain": [
       "array([[-1.04723763e+02,  8.77537231e+01, -3.32488594e+01, ...,\n",
       "        -2.38248777e+00, -1.36347115e+00, -7.22123563e-01],\n",
       "       [-2.59909851e+02,  1.23193169e+02, -6.39508581e+00, ...,\n",
       "        -6.73697710e+00, -3.90829563e+00,  3.18117642e+00],\n",
       "       [-1.15755066e+02,  6.70791245e+01,  1.88346887e+00, ...,\n",
       "        -3.43661404e+00, -1.73870683e+00, -4.68739159e-02],\n",
       "       ...,\n",
       "       [-1.25020428e+01,  9.13173676e+01, -2.30759563e+01, ...,\n",
       "        -4.04763985e+00, -1.77685583e+00, -1.75431299e+00],\n",
       "       [-2.37930965e+01,  8.29835587e+01,  2.32049274e+00, ...,\n",
       "         1.40550268e+00,  4.16220337e-01, -3.45979966e-02],\n",
       "       [-9.63197021e+01,  9.09497147e+01, -3.22195396e+01, ...,\n",
       "        -2.41483903e+00, -1.62698254e-01, -1.84749973e+00]], dtype=float32)"
      ]
     },
     "execution_count": 15,
     "metadata": {},
     "output_type": "execute_result"
    }
   ],
   "source": [
    "X_train"
   ]
  },
  {
   "cell_type": "code",
   "execution_count": 16,
   "id": "8dc5ada6",
   "metadata": {},
   "outputs": [
    {
     "name": "stdout",
     "output_type": "stream",
     "text": [
      "(798, 40)\n",
      "(200, 40)\n",
      "(798, 10)\n",
      "(200, 10)\n"
     ]
    }
   ],
   "source": [
    "print(X_train.shape)\n",
    "print(X_test.shape)\n",
    "print(y_train.shape)\n",
    "print(y_test.shape)"
   ]
  },
  {
   "cell_type": "code",
   "execution_count": 17,
   "id": "112afac5",
   "metadata": {},
   "outputs": [
    {
     "name": "stdout",
     "output_type": "stream",
     "text": [
      "2.14.0\n"
     ]
    }
   ],
   "source": [
    "import tensorflow as tf\n",
    "print(tf.__version__)"
   ]
  },
  {
   "cell_type": "code",
   "execution_count": 18,
   "id": "888a67c7",
   "metadata": {},
   "outputs": [],
   "source": [
    "from tensorflow.keras.models import Sequential\n",
    "from tensorflow.keras.layers import Dense,Dropout,Activation,Flatten,BatchNormalization\n",
    "from tensorflow.keras.optimizers import Adam\n",
    "from sklearn import metrics"
   ]
  },
  {
   "cell_type": "code",
   "execution_count": 19,
   "id": "0170ad70",
   "metadata": {},
   "outputs": [
    {
     "name": "stdout",
     "output_type": "stream",
     "text": [
      "10\n"
     ]
    }
   ],
   "source": [
    "# No of classes\n",
    "num_labels=y.shape[1]\n",
    "print(num_labels)"
   ]
  },
  {
   "cell_type": "code",
   "execution_count": 20,
   "id": "0144811a",
   "metadata": {},
   "outputs": [],
   "source": [
    "model = Sequential()\n",
    "\n",
    "model.add(Dense(1024, input_shape=(40,), activation='relu'))\n",
    "model.add(Dropout(0.1))  # Decreased dropout rate\n",
    "\n",
    "model.add(Dense(512, activation='relu'))\n",
    "model.add(BatchNormalization())  # Added batch normalization layer\n",
    "\n",
    "model.add(Dense(256, activation='relu'))\n",
    "model.add(Dropout(0.1))  # Decreased dropout rate\n",
    "\n",
    "model.add(Dense(128, activation='relu'))\n",
    "model.add(BatchNormalization())  # Added batch normalization layer\n",
    "\n",
    "model.add(Dense(64, activation='relu'))\n",
    "model.add(Dropout(0.1))  # Decreased dropout rate\n",
    "\n",
    "model.add(Dense(32, activation='relu'))\n",
    "model.add(BatchNormalization())  # Added batch normalization layer\n",
    "\n",
    "# Adding more dense layers for better representation\n",
    "model.add(Dense(16, activation='relu'))\n",
    "model.add(Dropout(0.1))  # Decreased dropout rate\n",
    "\n",
    "# model.add(Dense(8, activation='relu'))\n",
    "# model.add(BatchNormalization())  # Added batch normalization layer\n",
    "\n",
    "# Output layer\n",
    "model.add(Dense(num_labels, activation='softmax'))  # Changed activation function to softmax for multi-class classification"
   ]
  },
  {
   "cell_type": "code",
   "execution_count": 21,
   "id": "7980f8c8",
   "metadata": {},
   "outputs": [
    {
     "name": "stdout",
     "output_type": "stream",
     "text": [
      "Model: \"sequential\"\n",
      "_________________________________________________________________\n",
      " Layer (type)                Output Shape              Param #   \n",
      "=================================================================\n",
      " dense (Dense)               (None, 1024)              41984     \n",
      "                                                                 \n",
      " dropout (Dropout)           (None, 1024)              0         \n",
      "                                                                 \n",
      " dense_1 (Dense)             (None, 512)               524800    \n",
      "                                                                 \n",
      " batch_normalization (Batch  (None, 512)               2048      \n",
      " Normalization)                                                  \n",
      "                                                                 \n",
      " dense_2 (Dense)             (None, 256)               131328    \n",
      "                                                                 \n",
      " dropout_1 (Dropout)         (None, 256)               0         \n",
      "                                                                 \n",
      " dense_3 (Dense)             (None, 128)               32896     \n",
      "                                                                 \n",
      " batch_normalization_1 (Bat  (None, 128)               512       \n",
      " chNormalization)                                                \n",
      "                                                                 \n",
      " dense_4 (Dense)             (None, 64)                8256      \n",
      "                                                                 \n",
      " dropout_2 (Dropout)         (None, 64)                0         \n",
      "                                                                 \n",
      " dense_5 (Dense)             (None, 32)                2080      \n",
      "                                                                 \n",
      " batch_normalization_2 (Bat  (None, 32)                128       \n",
      " chNormalization)                                                \n",
      "                                                                 \n",
      " dense_6 (Dense)             (None, 16)                528       \n",
      "                                                                 \n",
      " dropout_3 (Dropout)         (None, 16)                0         \n",
      "                                                                 \n",
      " dense_7 (Dense)             (None, 10)                170       \n",
      "                                                                 \n",
      "=================================================================\n",
      "Total params: 744730 (2.84 MB)\n",
      "Trainable params: 743386 (2.84 MB)\n",
      "Non-trainable params: 1344 (5.25 KB)\n",
      "_________________________________________________________________\n"
     ]
    }
   ],
   "source": [
    "model.summary()"
   ]
  },
  {
   "cell_type": "code",
   "execution_count": 22,
   "id": "bc9144c0",
   "metadata": {},
   "outputs": [],
   "source": [
    "model.compile(loss='categorical_crossentropy',metrics=['accuracy'],optimizer='adam')"
   ]
  },
  {
   "cell_type": "code",
   "execution_count": 23,
   "id": "27cdfadc",
   "metadata": {},
   "outputs": [],
   "source": [
    "from sklearn.metrics import precision_score, recall_score"
   ]
  },
  {
   "cell_type": "code",
   "execution_count": 24,
   "id": "bb43f049",
   "metadata": {},
   "outputs": [
    {
     "name": "stdout",
     "output_type": "stream",
     "text": [
      "7/7 [==============================] - 1s 8ms/step\n",
      "[[0.15251288 0.15741292 0.19306464 ... 0.09026777 0.0245932  0.01207459]\n",
      " [0.35433793 0.13347617 0.1666656  ... 0.04869126 0.01773153 0.01804945]\n",
      " [0.5992569  0.05234459 0.16797715 ... 0.02642499 0.00081426 0.00298999]\n",
      " ...\n",
      " [0.1977521  0.13475142 0.18206084 ... 0.09286322 0.0198952  0.00818435]\n",
      " [0.14115018 0.16001967 0.1967553  ... 0.10322806 0.01875716 0.00719027]\n",
      " [0.461104   0.08001819 0.17383108 ... 0.02835685 0.00378823 0.00463717]]\n",
      "[2 0 0 1 0 0 0 0 0 2 3 0 0 0 0 0 2 0 0 0 0 0 0 0 0 0 0 0 1 0 0 2 0 0 0 3 0\n",
      " 0 0 0 0 0 0 0 0 0 0 0 0 0 0 0 0 0 3 0 0 0 0 0 0 0 3 3 0 0 0 0 0 1 0 3 0 0\n",
      " 0 0 0 0 0 0 0 0 0 0 0 0 0 0 0 1 0 0 3 0 0 0 0 0 0 0 0 0 0 0 0 0 0 0 0 3 2\n",
      " 0 0 0 3 3 0 0 0 0 3 0 0 0 0 0 1 0 0 0 0 0 0 0 0 2 0 0 0 0 0 3 0 0 0 0 0 0\n",
      " 0 1 4 0 0 0 0 0 0 0 3 0 0 0 0 0 0 1 0 0 0 0 0 0 0 0 0 0 0 0 0 0 0 4 0 1 0\n",
      " 0 0 0 2 0 0 0 0 0 0 0 0 0 2 0]\n",
      "[2 7 0 3 6 7 5 2 8 2 6 3 1 1 8 7 4 5 5 0 7 0 3 0 1 7 5 4 9 6 7 9 0 9 6 6 9\n",
      " 5 2 7 3 9 2 3 0 5 8 9 9 6 5 8 6 5 9 2 9 2 3 6 3 7 3 2 7 2 1 4 3 1 6 3 3 9\n",
      " 4 5 4 4 6 6 3 6 8 2 4 5 8 3 4 2 4 0 9 8 6 7 7 5 0 2 5 8 4 2 1 4 7 8 1 6 0\n",
      " 8 4 7 6 2 4 6 3 2 8 4 2 9 9 8 2 2 2 3 8 0 5 8 1 4 8 4 2 3 9 3 0 0 7 0 4 9\n",
      " 3 4 6 8 4 5 8 6 8 7 3 8 9 5 6 4 7 1 7 5 7 2 4 6 1 7 7 5 3 7 2 7 3 4 6 4 7\n",
      " 9 0 6 9 7 6 6 1 2 2 9 6 2 2 4]\n",
      "Precision: 0.16019230769230766\n",
      "Recall: 0.115\n",
      "0.13388539482879103\n"
     ]
    },
    {
     "name": "stderr",
     "output_type": "stream",
     "text": [
      "C:\\Users\\nisar\\AppData\\Local\\Programs\\Python\\Python310\\lib\\site-packages\\sklearn\\metrics\\_classification.py:1344: UndefinedMetricWarning: Precision is ill-defined and being set to 0.0 in labels with no predicted samples. Use `zero_division` parameter to control this behavior.\n",
      "  _warn_prf(average, modifier, msg_start, len(result))\n"
     ]
    }
   ],
   "source": [
    "predictions = model.predict(X_test)  \n",
    "print(predictions)\n",
    "predicted_labels = np.argmax(predictions, axis=1)  \n",
    "print(predicted_labels)\n",
    "true_labels = np.argmax(y_test, axis=1) \n",
    "print(true_labels)\n",
    "\n",
    "precision = precision_score(true_labels, predicted_labels, average='weighted')\n",
    "recall = recall_score(true_labels, predicted_labels, average='weighted')\n",
    "\n",
    "print(\"Precision:\", precision)\n",
    "print(\"Recall:\", recall)\n",
    "\n",
    "f1_score = (2*precision*recall)/(precision+recall)\n",
    "print(f1_score)"
   ]
  },
  {
   "cell_type": "code",
   "execution_count": 25,
   "id": "eb0428a2",
   "metadata": {},
   "outputs": [
    {
     "name": "stdout",
     "output_type": "stream",
     "text": [
      "7/7 [==============================] - 0s 7ms/step\n",
      "Precision: 0.115\n",
      "Recall: 0.115\n",
      "0.115\n"
     ]
    }
   ],
   "source": [
    "predictions = model.predict(X_test)\n",
    "predicted_labels = np.argmax(predictions, axis=1)\n",
    "true_labels = np.argmax(y_test, axis=1)\n",
    "\n",
    "true_positives = 0\n",
    "false_positives = 0\n",
    "false_negatives = 0\n",
    "\n",
    "for true_label, predicted_label in zip(true_labels, predicted_labels):\n",
    "    if true_label == predicted_label:\n",
    "        true_positives += 1\n",
    "    elif true_label != predicted_label:\n",
    "        false_positives += 1\n",
    "        false_negatives += 1\n",
    "\n",
    "precision = true_positives / (true_positives + false_positives) if true_positives + false_positives != 0 else 0\n",
    "recall = true_positives / (true_positives + false_negatives) if true_positives + false_negatives != 0 else 0\n",
    "\n",
    "print(\"Precision:\", precision)\n",
    "print(\"Recall:\", recall)\n",
    "\n",
    "f1_score = (2*precision*recall)/(precision+recall)\n",
    "print(f1_score)"
   ]
  },
  {
   "cell_type": "code",
   "execution_count": 26,
   "id": "d998394f",
   "metadata": {},
   "outputs": [],
   "source": [
    "import time\n",
    "t=time.localtime()\n",
    "current_time=time.strftime(\"%H:%M:%S\",t)"
   ]
  },
  {
   "cell_type": "code",
   "execution_count": null,
   "id": "79f47987",
   "metadata": {},
   "outputs": [
    {
     "name": "stdout",
     "output_type": "stream",
     "text": [
      "Epoch 1/100\n",
      "25/25 [==============================] - ETA: 0s - loss: 2.3220 - accuracy: 0.1591\n",
      "Epoch 1: val_loss improved from inf to 5.10035, saving model to saved_models\\audio_classification_2024-08-11_14-20-38.hdf5\n",
      "25/25 [==============================] - 7s 61ms/step - loss: 2.3220 - accuracy: 0.1591 - val_loss: 5.1004 - val_accuracy: 0.0600\n"
     ]
    },
    {
     "name": "stderr",
     "output_type": "stream",
     "text": [
      "C:\\Users\\nisar\\AppData\\Local\\Programs\\Python\\Python310\\lib\\site-packages\\keras\\src\\engine\\training.py:3079: UserWarning: You are saving your model as an HDF5 file via `model.save()`. This file format is considered legacy. We recommend using instead the native Keras format, e.g. `model.save('my_model.keras')`.\n",
      "  saving_api.save_model(\n"
     ]
    },
    {
     "name": "stdout",
     "output_type": "stream",
     "text": [
      "Epoch 2/100\n",
      "25/25 [==============================] - ETA: 0s - loss: 2.0045 - accuracy: 0.2393\n",
      "Epoch 2: val_loss improved from 5.10035 to 4.18654, saving model to saved_models\\audio_classification_2024-08-11_14-20-38.hdf5\n",
      "25/25 [==============================] - 1s 33ms/step - loss: 2.0045 - accuracy: 0.2393 - val_loss: 4.1865 - val_accuracy: 0.1000\n",
      "Epoch 3/100\n",
      "25/25 [==============================] - ETA: 0s - loss: 1.8732 - accuracy: 0.2895\n",
      "Epoch 3: val_loss improved from 4.18654 to 3.00137, saving model to saved_models\\audio_classification_2024-08-11_14-20-38.hdf5\n",
      "25/25 [==============================] - 1s 30ms/step - loss: 1.8732 - accuracy: 0.2895 - val_loss: 3.0014 - val_accuracy: 0.1850\n",
      "Epoch 4/100\n",
      "25/25 [==============================] - ETA: 0s - loss: 1.7565 - accuracy: 0.3496\n",
      "Epoch 4: val_loss improved from 3.00137 to 2.20083, saving model to saved_models\\audio_classification_2024-08-11_14-20-38.hdf5\n",
      "25/25 [==============================] - 1s 30ms/step - loss: 1.7565 - accuracy: 0.3496 - val_loss: 2.2008 - val_accuracy: 0.2900\n",
      "Epoch 5/100\n",
      "25/25 [==============================] - ETA: 0s - loss: 1.6872 - accuracy: 0.4098\n",
      "Epoch 5: val_loss improved from 2.20083 to 1.87537, saving model to saved_models\\audio_classification_2024-08-11_14-20-38.hdf5\n",
      "25/25 [==============================] - 1s 29ms/step - loss: 1.6872 - accuracy: 0.4098 - val_loss: 1.8754 - val_accuracy: 0.3300\n",
      "Epoch 6/100\n",
      "25/25 [==============================] - ETA: 0s - loss: 1.6377 - accuracy: 0.4110\n",
      "Epoch 6: val_loss improved from 1.87537 to 1.79824, saving model to saved_models\\audio_classification_2024-08-11_14-20-38.hdf5\n",
      "25/25 [==============================] - 1s 31ms/step - loss: 1.6377 - accuracy: 0.4110 - val_loss: 1.7982 - val_accuracy: 0.4200\n",
      "Epoch 7/100\n",
      "25/25 [==============================] - ETA: 0s - loss: 1.5994 - accuracy: 0.4361\n",
      "Epoch 7: val_loss improved from 1.79824 to 1.66527, saving model to saved_models\\audio_classification_2024-08-11_14-20-38.hdf5\n",
      "25/25 [==============================] - 1s 30ms/step - loss: 1.5994 - accuracy: 0.4361 - val_loss: 1.6653 - val_accuracy: 0.4050\n",
      "Epoch 8/100\n",
      "25/25 [==============================] - ETA: 0s - loss: 1.5101 - accuracy: 0.4386\n",
      "Epoch 8: val_loss improved from 1.66527 to 1.62064, saving model to saved_models\\audio_classification_2024-08-11_14-20-38.hdf5\n",
      "25/25 [==============================] - 1s 30ms/step - loss: 1.5101 - accuracy: 0.4386 - val_loss: 1.6206 - val_accuracy: 0.4700\n",
      "Epoch 9/100\n",
      "25/25 [==============================] - ETA: 0s - loss: 1.4565 - accuracy: 0.4799\n",
      "Epoch 9: val_loss did not improve from 1.62064\n",
      "25/25 [==============================] - 1s 25ms/step - loss: 1.4565 - accuracy: 0.4799 - val_loss: 1.7086 - val_accuracy: 0.4200\n",
      "Epoch 10/100\n",
      "25/25 [==============================] - ETA: 0s - loss: 1.4370 - accuracy: 0.4887\n",
      "Epoch 10: val_loss improved from 1.62064 to 1.60232, saving model to saved_models\\audio_classification_2024-08-11_14-20-38.hdf5\n",
      "25/25 [==============================] - 1s 31ms/step - loss: 1.4370 - accuracy: 0.4887 - val_loss: 1.6023 - val_accuracy: 0.4600\n",
      "Epoch 11/100\n",
      "25/25 [==============================] - ETA: 0s - loss: 1.3535 - accuracy: 0.5238\n",
      "Epoch 11: val_loss did not improve from 1.60232\n",
      "25/25 [==============================] - 1s 24ms/step - loss: 1.3535 - accuracy: 0.5238 - val_loss: 1.6761 - val_accuracy: 0.4350\n",
      "Epoch 12/100\n",
      "25/25 [==============================] - ETA: 0s - loss: 1.3334 - accuracy: 0.5489\n",
      "Epoch 12: val_loss improved from 1.60232 to 1.40691, saving model to saved_models\\audio_classification_2024-08-11_14-20-38.hdf5\n",
      "25/25 [==============================] - 1s 26ms/step - loss: 1.3334 - accuracy: 0.5489 - val_loss: 1.4069 - val_accuracy: 0.5500\n",
      "Epoch 13/100\n",
      "25/25 [==============================] - ETA: 0s - loss: 1.2691 - accuracy: 0.5476\n",
      "Epoch 13: val_loss did not improve from 1.40691\n",
      "25/25 [==============================] - 1s 23ms/step - loss: 1.2691 - accuracy: 0.5476 - val_loss: 1.5288 - val_accuracy: 0.4700\n",
      "Epoch 14/100\n",
      "23/25 [==========================>...] - ETA: 0s - loss: 1.2313 - accuracy: 0.5870\n",
      "Epoch 14: val_loss did not improve from 1.40691\n",
      "25/25 [==============================] - 1s 23ms/step - loss: 1.2301 - accuracy: 0.5827 - val_loss: 1.4358 - val_accuracy: 0.5000\n",
      "Epoch 15/100\n",
      "25/25 [==============================] - ETA: 0s - loss: 1.2540 - accuracy: 0.5501\n",
      "Epoch 15: val_loss did not improve from 1.40691\n",
      "25/25 [==============================] - 1s 26ms/step - loss: 1.2540 - accuracy: 0.5501 - val_loss: 1.5079 - val_accuracy: 0.4750\n",
      "Epoch 16/100\n",
      "25/25 [==============================] - ETA: 0s - loss: 1.1999 - accuracy: 0.5977\n",
      "Epoch 16: val_loss did not improve from 1.40691\n",
      "25/25 [==============================] - 1s 25ms/step - loss: 1.1999 - accuracy: 0.5977 - val_loss: 1.4453 - val_accuracy: 0.5300\n",
      "Epoch 17/100\n",
      "25/25 [==============================] - ETA: 0s - loss: 1.1599 - accuracy: 0.5915\n",
      "Epoch 17: val_loss did not improve from 1.40691\n",
      "25/25 [==============================] - 1s 26ms/step - loss: 1.1599 - accuracy: 0.5915 - val_loss: 1.4223 - val_accuracy: 0.5300\n",
      "Epoch 18/100\n",
      "25/25 [==============================] - ETA: 0s - loss: 1.1358 - accuracy: 0.5990\n",
      "Epoch 18: val_loss did not improve from 1.40691\n",
      "25/25 [==============================] - 1s 25ms/step - loss: 1.1358 - accuracy: 0.5990 - val_loss: 1.5138 - val_accuracy: 0.5000\n",
      "Epoch 19/100\n",
      "25/25 [==============================] - ETA: 0s - loss: 1.1527 - accuracy: 0.5965\n",
      "Epoch 19: val_loss improved from 1.40691 to 1.39632, saving model to saved_models\\audio_classification_2024-08-11_14-20-38.hdf5\n",
      "25/25 [==============================] - 1s 30ms/step - loss: 1.1527 - accuracy: 0.5965 - val_loss: 1.3963 - val_accuracy: 0.5100\n",
      "Epoch 20/100\n",
      "25/25 [==============================] - ETA: 0s - loss: 0.9837 - accuracy: 0.6817\n",
      "Epoch 20: val_loss did not improve from 1.39632\n",
      "25/25 [==============================] - 1s 26ms/step - loss: 0.9837 - accuracy: 0.6817 - val_loss: 1.4516 - val_accuracy: 0.5500\n",
      "Epoch 21/100\n",
      "25/25 [==============================] - ETA: 0s - loss: 1.0306 - accuracy: 0.6529\n",
      "Epoch 21: val_loss did not improve from 1.39632\n",
      "25/25 [==============================] - 1s 25ms/step - loss: 1.0306 - accuracy: 0.6529 - val_loss: 1.4416 - val_accuracy: 0.5300\n",
      "Epoch 22/100\n",
      "24/25 [===========================>..] - ETA: 0s - loss: 0.9920 - accuracy: 0.6458\n",
      "Epoch 22: val_loss did not improve from 1.39632\n",
      "25/25 [==============================] - 1s 27ms/step - loss: 0.9901 - accuracy: 0.6504 - val_loss: 1.5061 - val_accuracy: 0.5450\n",
      "Epoch 23/100\n",
      "25/25 [==============================] - ETA: 0s - loss: 0.9456 - accuracy: 0.6679\n",
      "Epoch 23: val_loss did not improve from 1.39632\n",
      "25/25 [==============================] - 1s 25ms/step - loss: 0.9456 - accuracy: 0.6679 - val_loss: 1.4470 - val_accuracy: 0.5400\n",
      "Epoch 24/100\n",
      "25/25 [==============================] - ETA: 0s - loss: 0.9534 - accuracy: 0.6704\n",
      "Epoch 24: val_loss did not improve from 1.39632\n",
      "25/25 [==============================] - 1s 25ms/step - loss: 0.9534 - accuracy: 0.6704 - val_loss: 1.4915 - val_accuracy: 0.5400\n",
      "Epoch 25/100\n",
      "25/25 [==============================] - ETA: 0s - loss: 0.9644 - accuracy: 0.6779\n",
      "Epoch 25: val_loss did not improve from 1.39632\n",
      "25/25 [==============================] - 1s 25ms/step - loss: 0.9644 - accuracy: 0.6779 - val_loss: 1.5592 - val_accuracy: 0.4800\n",
      "Epoch 26/100\n",
      "25/25 [==============================] - ETA: 0s - loss: 0.9120 - accuracy: 0.6867\n",
      "Epoch 26: val_loss improved from 1.39632 to 1.27818, saving model to saved_models\\audio_classification_2024-08-11_14-20-38.hdf5\n",
      "25/25 [==============================] - 1s 30ms/step - loss: 0.9120 - accuracy: 0.6867 - val_loss: 1.2782 - val_accuracy: 0.5850\n",
      "Epoch 27/100\n",
      "25/25 [==============================] - ETA: 0s - loss: 0.8701 - accuracy: 0.7193\n",
      "Epoch 27: val_loss did not improve from 1.27818\n",
      "25/25 [==============================] - 1s 26ms/step - loss: 0.8701 - accuracy: 0.7193 - val_loss: 1.3671 - val_accuracy: 0.5600\n",
      "Epoch 28/100\n",
      "25/25 [==============================] - ETA: 0s - loss: 0.8784 - accuracy: 0.6767\n",
      "Epoch 28: val_loss did not improve from 1.27818\n",
      "25/25 [==============================] - 1s 26ms/step - loss: 0.8784 - accuracy: 0.6767 - val_loss: 1.2939 - val_accuracy: 0.5550\n"
     ]
    },
    {
     "name": "stdout",
     "output_type": "stream",
     "text": [
      "Epoch 29/100\n",
      "25/25 [==============================] - ETA: 0s - loss: 0.7813 - accuracy: 0.7268\n",
      "Epoch 29: val_loss did not improve from 1.27818\n",
      "25/25 [==============================] - 1s 26ms/step - loss: 0.7813 - accuracy: 0.7268 - val_loss: 1.4021 - val_accuracy: 0.5450\n",
      "Epoch 30/100\n",
      "25/25 [==============================] - ETA: 0s - loss: 0.7721 - accuracy: 0.7406\n",
      "Epoch 30: val_loss did not improve from 1.27818\n",
      "25/25 [==============================] - 1s 25ms/step - loss: 0.7721 - accuracy: 0.7406 - val_loss: 1.3965 - val_accuracy: 0.5450\n",
      "Epoch 31/100\n",
      "25/25 [==============================] - ETA: 0s - loss: 0.7316 - accuracy: 0.7519\n",
      "Epoch 31: val_loss did not improve from 1.27818\n",
      "25/25 [==============================] - 1s 26ms/step - loss: 0.7316 - accuracy: 0.7519 - val_loss: 1.4723 - val_accuracy: 0.5500\n",
      "Epoch 32/100\n",
      "25/25 [==============================] - ETA: 0s - loss: 0.7538 - accuracy: 0.7381\n",
      "Epoch 32: val_loss did not improve from 1.27818\n",
      "25/25 [==============================] - 1s 26ms/step - loss: 0.7538 - accuracy: 0.7381 - val_loss: 1.5527 - val_accuracy: 0.5450\n",
      "Epoch 33/100\n",
      "25/25 [==============================] - ETA: 0s - loss: 0.7038 - accuracy: 0.7769\n",
      "Epoch 33: val_loss did not improve from 1.27818\n",
      "25/25 [==============================] - 1s 26ms/step - loss: 0.7038 - accuracy: 0.7769 - val_loss: 1.3970 - val_accuracy: 0.5750\n",
      "Epoch 34/100\n",
      "25/25 [==============================] - ETA: 0s - loss: 0.7018 - accuracy: 0.7707\n",
      "Epoch 34: val_loss did not improve from 1.27818\n",
      "25/25 [==============================] - 1s 26ms/step - loss: 0.7018 - accuracy: 0.7707 - val_loss: 1.5156 - val_accuracy: 0.5800\n",
      "Epoch 35/100\n",
      "25/25 [==============================] - ETA: 0s - loss: 0.6843 - accuracy: 0.7657\n",
      "Epoch 35: val_loss did not improve from 1.27818\n",
      "25/25 [==============================] - 1s 25ms/step - loss: 0.6843 - accuracy: 0.7657 - val_loss: 1.6948 - val_accuracy: 0.5150\n",
      "Epoch 36/100\n",
      "25/25 [==============================] - ETA: 0s - loss: 0.7454 - accuracy: 0.7519\n",
      "Epoch 36: val_loss did not improve from 1.27818\n",
      "25/25 [==============================] - 1s 26ms/step - loss: 0.7454 - accuracy: 0.7519 - val_loss: 1.5346 - val_accuracy: 0.5400\n",
      "Epoch 37/100\n",
      "25/25 [==============================] - ETA: 0s - loss: 0.7040 - accuracy: 0.7732\n",
      "Epoch 37: val_loss did not improve from 1.27818\n",
      "25/25 [==============================] - 1s 25ms/step - loss: 0.7040 - accuracy: 0.7732 - val_loss: 1.7102 - val_accuracy: 0.5500\n",
      "Epoch 38/100\n",
      "25/25 [==============================] - ETA: 0s - loss: 0.6040 - accuracy: 0.7970\n",
      "Epoch 38: val_loss did not improve from 1.27818\n",
      "25/25 [==============================] - 1s 26ms/step - loss: 0.6040 - accuracy: 0.7970 - val_loss: 1.6799 - val_accuracy: 0.5400\n",
      "Epoch 39/100\n",
      "25/25 [==============================] - ETA: 0s - loss: 0.6666 - accuracy: 0.7719\n",
      "Epoch 39: val_loss did not improve from 1.27818\n",
      "25/25 [==============================] - 1s 25ms/step - loss: 0.6666 - accuracy: 0.7719 - val_loss: 1.5552 - val_accuracy: 0.5600\n",
      "Epoch 40/100\n",
      "25/25 [==============================] - ETA: 0s - loss: 0.6250 - accuracy: 0.7744\n",
      "Epoch 40: val_loss did not improve from 1.27818\n",
      "25/25 [==============================] - 1s 26ms/step - loss: 0.6250 - accuracy: 0.7744 - val_loss: 1.5189 - val_accuracy: 0.5450\n",
      "Epoch 41/100\n",
      "25/25 [==============================] - ETA: 0s - loss: 0.6116 - accuracy: 0.7807\n",
      "Epoch 41: val_loss did not improve from 1.27818\n",
      "25/25 [==============================] - 1s 26ms/step - loss: 0.6116 - accuracy: 0.7807 - val_loss: 1.5521 - val_accuracy: 0.5800\n",
      "Epoch 42/100\n",
      "25/25 [==============================] - ETA: 0s - loss: 0.6480 - accuracy: 0.7769\n",
      "Epoch 42: val_loss did not improve from 1.27818\n",
      "25/25 [==============================] - 1s 25ms/step - loss: 0.6480 - accuracy: 0.7769 - val_loss: 1.4955 - val_accuracy: 0.5950\n",
      "Epoch 43/100\n",
      "25/25 [==============================] - ETA: 0s - loss: 0.5668 - accuracy: 0.8145\n",
      "Epoch 43: val_loss did not improve from 1.27818\n",
      "25/25 [==============================] - 1s 26ms/step - loss: 0.5668 - accuracy: 0.8145 - val_loss: 1.4391 - val_accuracy: 0.5700\n",
      "Epoch 44/100\n",
      "25/25 [==============================] - ETA: 0s - loss: 0.5841 - accuracy: 0.7970\n",
      "Epoch 44: val_loss did not improve from 1.27818\n",
      "25/25 [==============================] - 1s 25ms/step - loss: 0.5841 - accuracy: 0.7970 - val_loss: 1.5044 - val_accuracy: 0.5350\n",
      "Epoch 45/100\n",
      "25/25 [==============================] - ETA: 0s - loss: 0.5340 - accuracy: 0.8258\n",
      "Epoch 45: val_loss did not improve from 1.27818\n",
      "25/25 [==============================] - 1s 26ms/step - loss: 0.5340 - accuracy: 0.8258 - val_loss: 1.5374 - val_accuracy: 0.5750\n",
      "Epoch 46/100\n",
      "25/25 [==============================] - ETA: 0s - loss: 0.5977 - accuracy: 0.7882\n",
      "Epoch 46: val_loss did not improve from 1.27818\n",
      "25/25 [==============================] - 1s 25ms/step - loss: 0.5977 - accuracy: 0.7882 - val_loss: 1.5226 - val_accuracy: 0.6100\n",
      "Epoch 47/100\n",
      "25/25 [==============================] - ETA: 0s - loss: 0.5919 - accuracy: 0.8108\n",
      "Epoch 47: val_loss did not improve from 1.27818\n",
      "25/25 [==============================] - 1s 26ms/step - loss: 0.5919 - accuracy: 0.8108 - val_loss: 1.5867 - val_accuracy: 0.5750\n",
      "Epoch 48/100\n",
      "25/25 [==============================] - ETA: 0s - loss: 0.5240 - accuracy: 0.8283\n",
      "Epoch 48: val_loss did not improve from 1.27818\n",
      "25/25 [==============================] - 1s 25ms/step - loss: 0.5240 - accuracy: 0.8283 - val_loss: 1.7144 - val_accuracy: 0.5750\n",
      "Epoch 49/100\n",
      "25/25 [==============================] - ETA: 0s - loss: 0.5517 - accuracy: 0.8321\n",
      "Epoch 49: val_loss did not improve from 1.27818\n",
      "25/25 [==============================] - 1s 25ms/step - loss: 0.5517 - accuracy: 0.8321 - val_loss: 1.4066 - val_accuracy: 0.5850\n",
      "Epoch 50/100\n",
      "25/25 [==============================] - ETA: 0s - loss: 0.5007 - accuracy: 0.8409\n",
      "Epoch 50: val_loss did not improve from 1.27818\n",
      "25/25 [==============================] - 1s 26ms/step - loss: 0.5007 - accuracy: 0.8409 - val_loss: 1.5966 - val_accuracy: 0.5600\n",
      "Epoch 51/100\n",
      "25/25 [==============================] - ETA: 0s - loss: 0.4367 - accuracy: 0.8747\n",
      "Epoch 51: val_loss did not improve from 1.27818\n",
      "25/25 [==============================] - 1s 25ms/step - loss: 0.4367 - accuracy: 0.8747 - val_loss: 1.7034 - val_accuracy: 0.5600\n",
      "Epoch 52/100\n",
      "25/25 [==============================] - ETA: 0s - loss: 0.4447 - accuracy: 0.8571\n",
      "Epoch 52: val_loss did not improve from 1.27818\n",
      "25/25 [==============================] - 1s 26ms/step - loss: 0.4447 - accuracy: 0.8571 - val_loss: 1.6946 - val_accuracy: 0.5400\n",
      "Epoch 53/100\n",
      "25/25 [==============================] - ETA: 0s - loss: 0.4751 - accuracy: 0.8471\n",
      "Epoch 53: val_loss did not improve from 1.27818\n",
      "25/25 [==============================] - 1s 25ms/step - loss: 0.4751 - accuracy: 0.8471 - val_loss: 1.7453 - val_accuracy: 0.5550\n",
      "Epoch 54/100\n",
      "24/25 [===========================>..] - ETA: 0s - loss: 0.4578 - accuracy: 0.8555\n",
      "Epoch 54: val_loss did not improve from 1.27818\n",
      "25/25 [==============================] - 1s 25ms/step - loss: 0.4544 - accuracy: 0.8571 - val_loss: 1.5424 - val_accuracy: 0.5900\n",
      "Epoch 55/100\n",
      "25/25 [==============================] - ETA: 0s - loss: 0.4959 - accuracy: 0.8396\n",
      "Epoch 55: val_loss did not improve from 1.27818\n",
      "25/25 [==============================] - 1s 25ms/step - loss: 0.4959 - accuracy: 0.8396 - val_loss: 1.6492 - val_accuracy: 0.5750\n",
      "Epoch 56/100\n",
      "22/25 [=========================>....] - ETA: 0s - loss: 0.4598 - accuracy: 0.8636"
     ]
    }
   ],
   "source": [
    "# train the model\n",
    "\n",
    "# from tensorflow.keras.callbacks import ModelCheckpoint\n",
    "# from datetime import datetime\n",
    "\n",
    "# n_epoch=5\n",
    "# n_batch_size=32\n",
    "\n",
    "# checkpointer=ModelCheckpoint(filepath=f'saved_models/audio_classification_{current_time}.hdf5',verbose=1,save_best_only=True)\n",
    "# start=datetime.now()\n",
    "\n",
    "# history=model.fit(X_train,y_train,batch_size=n_batch_size,epochs=n_epoch,\n",
    "#                   validation_data=(X_test,y_test),callbacks=[checkpointer],verbose=1)\n",
    "\n",
    "# duration=datetime.now()-start\n",
    "# print(\"Training completed in time : \",duration)\n",
    "\n",
    "\n",
    "from tensorflow.keras.callbacks import ModelCheckpoint\n",
    "from datetime import datetime\n",
    "\n",
    "n_epoch=100\n",
    "n_batch_size=32\n",
    "\n",
    "# Define current time in a format suitable for file naming\n",
    "current_time = datetime.now().strftime(\"%Y-%m-%d_%H-%M-%S\")\n",
    "\n",
    "# Define file path using the formatted current time\n",
    "file_path = f'saved_models/audio_classification_{current_time}.hdf5'\n",
    "\n",
    "# Assuming 'model' is defined earlier in your code\n",
    "checkpointer = ModelCheckpoint(filepath=file_path, verbose=1, save_best_only=True) #verbose - print the saved sile\n",
    "\n",
    "# Start training with the modified file path\n",
    "start = datetime.now()\n",
    "\n",
    "history = model.fit(X_train, y_train, batch_size=n_batch_size, epochs=n_epoch,\n",
    "                    validation_data=(X_test, y_test), callbacks=[checkpointer], verbose=1)\n",
    "\n",
    "duration = datetime.now() - start\n",
    "print(\"Training completed in time:\", duration)"
   ]
  },
  {
   "cell_type": "code",
   "execution_count": 52,
   "id": "e84f6dde",
   "metadata": {},
   "outputs": [
    {
     "data": {
      "text/plain": [
       "[2.7570996284484863, 0.6150000095367432]"
      ]
     },
     "execution_count": 52,
     "metadata": {},
     "output_type": "execute_result"
    }
   ],
   "source": [
    "model.evaluate(X_test,y_test,verbose=0)"
   ]
  },
  {
   "cell_type": "code",
   "execution_count": 53,
   "id": "2fb43082",
   "metadata": {},
   "outputs": [
    {
     "data": {
      "image/png": "[encoded data removed]",
      "text/plain": [
       "<Figure size 1200x600 with 1 Axes>"
      ]
     },
     "metadata": {},
     "output_type": "display_data"
    }
   ],
   "source": [
    "pd.DataFrame(history.history).plot(figsize=(12,6))\n",
    "plt.show()"
   ]
  },
  {
   "cell_type": "code",
   "execution_count": 54,
   "id": "1ae2ae9a",
   "metadata": {},
   "outputs": [
    {
     "name": "stdout",
     "output_type": "stream",
     "text": [
      "7/7 [==============================] - 0s 8ms/step\n"
     ]
    },
    {
     "data": {
      "text/plain": [
       "array([[1.2541906e-02, 3.2300712e-04, 7.4887602e-03, ..., 1.8806200e-05,\n",
       "        1.0007554e-03, 9.3764257e-01],\n",
       "       [6.1904905e-19, 6.8624972e-13, 2.6954358e-10, ..., 9.9999928e-01,\n",
       "        6.7186590e-09, 8.5190095e-09],\n",
       "       [9.9998212e-01, 4.2755461e-09, 4.4742160e-06, ..., 1.3241308e-13,\n",
       "        1.0222671e-05, 1.9832110e-06],\n",
       "       ...,\n",
       "       [1.8438608e-05, 3.1366999e-06, 9.9767488e-01, ..., 2.9472556e-04,\n",
       "        3.1194406e-05, 1.6036502e-04],\n",
       "       [1.1334012e-06, 2.1449896e-08, 9.9996281e-01, ..., 2.2017177e-06,\n",
       "        2.7021608e-06, 3.2511732e-06],\n",
       "       [1.1640387e-04, 8.5822487e-01, 2.5486120e-04, ..., 1.8298279e-03,\n",
       "        6.7892335e-03, 1.2514786e-03]], dtype=float32)"
      ]
     },
     "execution_count": 54,
     "metadata": {},
     "output_type": "execute_result"
    }
   ],
   "source": [
    "model.predict(X_test)"
   ]
  },
  {
   "cell_type": "code",
   "execution_count": 67,
   "id": "4d6b099e",
   "metadata": {},
   "outputs": [
    {
     "name": "stdout",
     "output_type": "stream",
     "text": [
      "7/7 [==============================] - 0s 7ms/step\n",
      "[[9.8585725e-01 2.0785542e-04 4.7038221e-03 ... 9.1530671e-07\n",
      "  4.9981015e-04 2.7256303e-03]\n",
      " [7.4602169e-17 3.5015411e-12 1.1039204e-09 ... 9.9999917e-01\n",
      "  7.6000418e-07 8.3742464e-08]\n",
      " [9.9999702e-01 6.7602729e-11 2.7743206e-07 ... 1.4485139e-14\n",
      "  3.6781339e-07 2.0699126e-06]\n",
      " ...\n",
      " [7.1313744e-04 6.0674306e-06 9.8861527e-01 ... 3.0275263e-04\n",
      "  2.8833159e-05 5.9311988e-04]\n",
      " [7.1453888e-07 5.8163048e-09 9.9999428e-01 ... 5.2374935e-07\n",
      "  2.0723917e-06 3.5205852e-07]\n",
      " [3.1314950e-05 9.9931943e-01 2.0942605e-06 ... 1.9425970e-05\n",
      "  1.4363010e-04 2.6741970e-06]]\n",
      "[0 7 0 3 6 7 5 2 8 2 6 4 1 1 5 7 6 5 5 0 8 8 8 0 1 7 5 5 9 6 7 4 0 4 6 6 9\n",
      " 5 2 7 3 9 9 3 0 4 8 3 5 6 5 8 6 5 9 2 3 2 3 6 6 8 0 6 4 2 1 4 3 1 6 6 9 9\n",
      " 4 5 5 4 6 0 8 6 8 3 2 5 8 8 4 2 4 0 9 4 6 7 7 5 0 0 5 4 4 4 1 4 7 8 1 6 0\n",
      " 3 3 4 6 2 4 6 3 5 4 8 3 9 9 7 1 2 5 7 5 0 5 4 1 2 8 4 2 2 5 3 0 0 9 0 4 3\n",
      " 4 3 6 8 3 2 8 0 4 4 4 8 9 5 6 4 7 1 7 2 7 5 4 6 1 7 7 1 9 7 2 7 4 3 6 0 7\n",
      " 2 0 6 9 7 9 6 1 2 2 9 6 2 2 1]\n",
      "[2 7 0 3 6 7 5 2 8 2 6 3 1 1 8 7 4 5 5 0 7 0 3 0 1 7 5 4 9 6 7 9 0 9 6 6 9\n",
      " 5 2 7 3 9 2 3 0 5 8 9 9 6 5 8 6 5 9 2 9 2 3 6 3 7 3 2 7 2 1 4 3 1 6 3 3 9\n",
      " 4 5 4 4 6 6 3 6 8 2 4 5 8 3 4 2 4 0 9 8 6 7 7 5 0 2 5 8 4 2 1 4 7 8 1 6 0\n",
      " 8 4 7 6 2 4 6 3 2 8 4 2 9 9 8 2 2 2 3 8 0 5 8 1 4 8 4 2 3 9 3 0 0 7 0 4 9\n",
      " 3 4 6 8 4 5 8 6 8 7 3 8 9 5 6 4 7 1 7 5 7 2 4 6 1 7 7 5 3 7 2 7 3 4 6 4 7\n",
      " 9 0 6 9 7 6 6 1 2 2 9 6 2 2 4]\n",
      "Precision: 0.6638213873974322\n",
      "Recall: 0.66\n"
     ]
    }
   ],
   "source": [
    "predictions = model.predict(X_test)  # Replace X_test with your test data\n",
    "print(predictions)\n",
    "predicted_labels = np.argmax(predictions, axis=1)  # Convert softmax output to class labels\n",
    "print(predicted_labels)\n",
    "true_labels = np.argmax(y_test, axis=1)  # Assuming y_test is one-hot encoded\n",
    "print(true_labels)\n",
    "\n",
    "precision = precision_score(true_labels, predicted_labels, average='weighted')\n",
    "recall = recall_score(true_labels, predicted_labels, average='weighted')\n",
    "\n",
    "print(\"Precision:\", precision)\n",
    "print(\"Recall:\", recall)"
   ]
  },
  {
   "cell_type": "code",
   "execution_count": 57,
   "id": "abe3ec0d",
   "metadata": {},
   "outputs": [
    {
     "name": "stdout",
     "output_type": "stream",
     "text": [
      "[-1.1359882e+02  1.2157067e+02 -1.9162262e+01  4.2363937e+01\n",
      " -6.3622661e+00  1.8621931e+01 -1.3699734e+01  1.5339802e+01\n",
      " -1.2274304e+01  1.0970945e+01 -8.3260612e+00  8.8020878e+00\n",
      " -3.6699414e+00  5.7446756e+00 -5.1627831e+00  7.5170642e-01\n",
      " -1.6878541e+00 -4.0872997e-01 -2.3026767e+00  1.2224671e+00\n",
      " -3.5328746e+00 -1.1397806e+00 -4.2828279e+00 -4.2260838e+00\n",
      "  9.1518766e-01  9.1406393e-01 -5.7618074e+00 -3.9328036e+00\n",
      "  1.5094346e+00  2.6984656e+00  5.6560731e+00 -3.2690079e+00\n",
      " -2.0606375e-01 -2.9996982e+00  4.4763169e+00 -4.7685504e-01\n",
      "  6.0062852e+00 -5.9690334e-02 -3.4585848e+00 -1.8418324e+00]\n",
      "[[-1.1359882e+02  1.2157067e+02 -1.9162262e+01  4.2363937e+01\n",
      "  -6.3622661e+00  1.8621931e+01 -1.3699734e+01  1.5339802e+01\n",
      "  -1.2274304e+01  1.0970945e+01 -8.3260612e+00  8.8020878e+00\n",
      "  -3.6699414e+00  5.7446756e+00 -5.1627831e+00  7.5170642e-01\n",
      "  -1.6878541e+00 -4.0872997e-01 -2.3026767e+00  1.2224671e+00\n",
      "  -3.5328746e+00 -1.1397806e+00 -4.2828279e+00 -4.2260838e+00\n",
      "   9.1518766e-01  9.1406393e-01 -5.7618074e+00 -3.9328036e+00\n",
      "   1.5094346e+00  2.6984656e+00  5.6560731e+00 -3.2690079e+00\n",
      "  -2.0606375e-01 -2.9996982e+00  4.4763169e+00 -4.7685504e-01\n",
      "   6.0062852e+00 -5.9690334e-02 -3.4585848e+00 -1.8418324e+00]]\n",
      "(1, 40)\n",
      "1/1 [==============================] - 0s 46ms/step\n",
      "blues\n"
     ]
    }
   ],
   "source": [
    "filename='audio/blues.00000.wav'\n",
    "audio,sample_rate=librosa.load(filename,res_type='kaiser_fast')\n",
    "mfccs_features=librosa.feature.mfcc(y=audio,sr=sample_rate,n_mfcc=40)\n",
    "mfccs_scaled_features=np.mean(mfccs_features.T,axis=0)\n",
    "\n",
    "print(mfccs_scaled_features)\n",
    "mfccs_scaled_features=mfccs_scaled_features.reshape(1,-1)\n",
    "print(mfccs_scaled_features)\n",
    "print(mfccs_scaled_features.shape)\n",
    "predicted_label=model.predict(mfccs_scaled_features)\n",
    "# print(predicted_label)\n",
    "# predicted_label1 = predicted_label.flatten()\n",
    "# pridiction_class=labelencoder.inverse_transform(predicted_label)\n",
    "# print(pridiction_class)\n",
    "predicted_label = np.squeeze(predicted_label)\n",
    "\n",
    "# Define a default label for unseen values\n",
    "default_label = \"Unknown\"\n",
    "\n",
    "# Convert predicted_label to integer type\n",
    "predicted_label_int = predicted_label.astype(int)\n",
    "\n",
    "# Create a function to handle prediction classes\n",
    "def handle_predictions(predictions, label_encoder, default_value):\n",
    "    transformed_labels = []\n",
    "    for pred in predictions:\n",
    "        try:\n",
    "            label = label_encoder.inverse_transform([pred])[0]\n",
    "        except ValueError:\n",
    "            label = default_value\n",
    "        transformed_labels.append(label)\n",
    "    return transformed_labels\n",
    "\n",
    "# Use the function to transform predicted labels\n",
    "prediction_classes = handle_predictions(predicted_label_int, labelencoder, default_label)\n",
    "print(prediction_classes[0])"
   ]
  }
 ],
 "metadata": {
  "kernelspec": {
   "display_name": "Python 3 (ipykernel)",
   "language": "python",
   "name": "python3"
  },
  "language_info": {
   "codemirror_mode": {
    "name": "ipython",
    "version": 3
   },
   "file_extension": ".py",
   "mimetype": "text/x-python",
   "name": "python",
   "nbconvert_exporter": "python",
   "pygments_lexer": "ipython3",
   "version": "3.10.0"
  }
 },
 "nbformat": 4,
 "nbformat_minor": 5
}
